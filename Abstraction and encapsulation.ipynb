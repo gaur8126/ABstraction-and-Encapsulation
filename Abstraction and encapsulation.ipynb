{
 "cells": [
  {
   "cell_type": "markdown",
   "id": "3954f9c2-cdc3-4de6-bbdf-f6002bb72689",
   "metadata": {},
   "source": [
    "## Q.1 \n",
    "\n",
    "Abstraction in object-oriented programming (OOP) is the concept of hiding the complex implementation details and showing only the essential features of an object"
   ]
  },
  {
   "cell_type": "code",
   "execution_count": 2,
   "id": "d3598636-12d0-4f0d-969d-cc85632621a0",
   "metadata": {},
   "outputs": [],
   "source": [
    "class Vehicle:\n",
    "    def __init__(self, speed, fuel_capacity):\n",
    "        self.speed = speed\n",
    "        self.fuel_capacity = fuel_capacity\n",
    "\n",
    "    def accelerate(self):\n",
    "        \n",
    "        pass\n",
    "\n",
    "    def brake(self):\n",
    "        pass\n",
    "\n",
    "class Car(Vehicle):\n",
    "    def accelerate(self):\n",
    "        print(\"Car is accelerating\")\n",
    "\n",
    "    def brake(self):\n",
    "        print(\"Car brakes applied\")\n",
    "\n",
    "class Truck(Vehicle):\n",
    "    def accelerate(self):\n",
    "        print(\"Truck is accelerating\")\n",
    "\n",
    "    def brake(self):\n",
    "        print(\"Truck brakes applied\")\n",
    "\n",
    "class Motorcycle(Vehicle):\n",
    "    def accelerate(self):\n",
    "        print(\"Motorcycle is accelerating\")\n",
    "\n",
    "    def brake(self):\n",
    "        print(\"Motorcycle brakes applied\")\n"
   ]
  },
  {
   "cell_type": "markdown",
   "id": "aafc4e2e-4b04-4264-94f1-3bd135ade47a",
   "metadata": {},
   "source": [
    "## Q.2 \n",
    "Abstraction-\n",
    "\n",
    "Abstraction refers to the process of hiding the complex implementation details and showing only the essential features of an object to the outside world. It focuses on what an object does rather than how it achieves it. Abstraction helps in reducing complexity and managing large codebases by providing a simplified interface for interacting with objects."
   ]
  },
  {
   "cell_type": "code",
   "execution_count": 3,
   "id": "573df91f-c04d-4498-950d-b1cda10ca04b",
   "metadata": {},
   "outputs": [],
   "source": [
    "import math\n",
    "\n",
    "class Shape:\n",
    "    def area(self):\n",
    "        \n",
    "        pass\n",
    "\n",
    "    def perimeter(self):\n",
    "        \n",
    "        pass\n",
    "\n",
    "class Circle(Shape):\n",
    "    def __init__(self, radius):\n",
    "        self.radius = radius\n",
    "\n",
    "    def area(self):\n",
    "        return math.pi * self.radius ** 2\n",
    "\n",
    "    def perimeter(self):\n",
    "        return 2 * math.pi * self.radius\n",
    "\n",
    "class Rectangle(Shape):\n",
    "    def __init__(self, width, height):\n",
    "        self.width = width\n",
    "        self.height = height\n",
    "\n",
    "    def area(self):\n",
    "        return self.width * self.height\n",
    "\n",
    "    def perimeter(self):\n",
    "        return 2 * (self.width + self.height)\n"
   ]
  },
  {
   "cell_type": "markdown",
   "id": "868b09db-cf76-4054-8e79-f8507a31e5e0",
   "metadata": {},
   "source": [
    "\n",
    "Encapsulation-\n",
    "\n",
    "Encapsulation is the bundling of data and methods that operate on the data into a single unit, called a class. It hides the internal state of an object from the outside world and only exposes the necessary functionalities through methods. Encapsulation helps in achieving data hiding, abstraction, and modularity, which leads to better code organization and maintenance."
   ]
  },
  {
   "cell_type": "code",
   "execution_count": 4,
   "id": "69f4062d-b3aa-4486-b54b-bf07d0e551ce",
   "metadata": {},
   "outputs": [],
   "source": [
    "class Circle(Shape):\n",
    "    def __init__(self, radius):\n",
    "        self.__radius = radius\n",
    "\n",
    "    def area(self):\n",
    "        return math.pi * self.__radius ** 2\n",
    "\n",
    "    def perimeter(self):\n",
    "        return 2 * math.pi * self.__radius\n",
    "\n",
    "class Rectangle(Shape):\n",
    "    def __init__(self, width, height):\n",
    "        self.__width = width\n",
    "        self.__height = height\n",
    "\n",
    "    def area(self):\n",
    "        return self.__width * self.__height\n",
    "\n",
    "    def perimeter(self):\n",
    "        return 2 * (self.__width + self.__height)\n"
   ]
  },
  {
   "cell_type": "markdown",
   "id": "89a3d250-d5bc-4118-abbe-aec7798f5d1d",
   "metadata": {},
   "source": [
    "## Q.3\n",
    "\n",
    "The abc module in Python stands for \"Abstract Base Classes\". It provides a framework for creating abstract base classes and interfaces. An abstract base class is a class that cannot be instantiated directly but serves as a template for other classes. Abstract base classes are used to define a common interface or behavior that subclasses must implement.\n",
    "\n",
    "The abc module is used for several purposes:\n",
    "#### 1. Defining Abstract Base Classes \n",
    "#### 2. Enforcing Interface Contracts\n",
    "#### 3. Providing a Template for Subclasses\n",
    "#### 4. Facilitating Polymorphism"
   ]
  },
  {
   "cell_type": "markdown",
   "id": "130d4cc7-3e8a-4dd9-928e-a4cfb819e4d3",
   "metadata": {},
   "source": [
    "## Q.4 \n",
    "\n",
    "Classes and object"
   ]
  },
  {
   "cell_type": "code",
   "execution_count": null,
   "id": "b1728013-c2f4-4e28-b8ab-aa9a6b54f3b6",
   "metadata": {},
   "outputs": [],
   "source": [
    "class BankAccount:\n",
    "    def __init__(self, account_number, balance):\n",
    "        self.account_number = account_number\n",
    "        self.balance = balance\n",
    "\n",
    "    def deposit(self, amount):\n",
    "        self.balance += amount\n",
    "\n",
    "    def withdraw(self, amount):\n",
    "        if amount <= self.balance:\n",
    "            self.balance -= amount\n",
    "        else:\n",
    "            print(\"Insufficient balance\")\n",
    "\n",
    "# Usage\n",
    "account = BankAccount(\"123456789\", 1000)\n",
    "account.deposit(500)\n",
    "account.withdraw(200)\n"
   ]
  },
  {
   "cell_type": "markdown",
   "id": "53afb96b-dc28-49ca-a867-188d9e4f5406",
   "metadata": {},
   "source": [
    "#### Encapsulation"
   ]
  },
  {
   "cell_type": "code",
   "execution_count": 6,
   "id": "a334f9cb-44f5-428f-9074-44778eb7acad",
   "metadata": {},
   "outputs": [
    {
     "name": "stdout",
     "output_type": "stream",
     "text": [
      "1000\n"
     ]
    }
   ],
   "source": [
    "class BankAccount:\n",
    "    def __init__(self, account_number, balance):\n",
    "        self.__account_number = account_number\n",
    "        self.__balance = balance\n",
    "\n",
    "    def deposit(self, amount):\n",
    "        self.__balance += amount\n",
    "\n",
    "    def withdraw(self, amount):\n",
    "        if amount <= self.__balance:\n",
    "            self.__balance -= amount\n",
    "        else:\n",
    "            print(\"Insufficient balance\")\n",
    "\n",
    "    def get_balance(self):\n",
    "        return self.__balance\n",
    "\n",
    "# Usage\n",
    "account = BankAccount(\"123456789\", 1000)\n",
    "print(account.get_balance())\n"
   ]
  },
  {
   "cell_type": "markdown",
   "id": "309fdd96-d179-470c-b989-9cf296d0c753",
   "metadata": {},
   "source": [
    "### ABC"
   ]
  },
  {
   "cell_type": "code",
   "execution_count": 7,
   "id": "52cf02ac-046f-497b-834c-59f3a3e5cb9e",
   "metadata": {},
   "outputs": [],
   "source": [
    "from abc import ABC, abstractmethod\n",
    "\n",
    "class Shape(ABC):\n",
    "    @abstractmethod\n",
    "    def area(self):\n",
    "        pass\n",
    "\n",
    "    @abstractmethod\n",
    "    def perimeter(self):\n",
    "        pass\n",
    "\n",
    "class Circle(Shape):\n",
    "    def __init__(self, radius):\n",
    "        self.radius = radius\n",
    "\n",
    "    def area(self):\n",
    "        return 3.14 * self.radius ** 2\n",
    "\n",
    "    def perimeter(self):\n",
    "        return 2 * 3.14 * self.radius\n"
   ]
  },
  {
   "cell_type": "markdown",
   "id": "d4116b31-7e6d-4894-b36c-97dbb5bb4e58",
   "metadata": {},
   "source": [
    "## Q.5"
   ]
  },
  {
   "cell_type": "code",
   "execution_count": 11,
   "id": "25a8f63f-69ac-453d-900b-4bb5c868f3b3",
   "metadata": {},
   "outputs": [],
   "source": [
    "from abc import ABC, abstractmethod\n",
    "\n",
    "class Shape(ABC):\n",
    "    @abstractmethod\n",
    "    def area(self):\n",
    "        pass\n",
    "\n",
    "    @abstractmethod\n",
    "    def perimeter(self):\n",
    "        pass\n",
    "\n",
    "\n"
   ]
  },
  {
   "cell_type": "code",
   "execution_count": null,
   "id": "738f9bce-519b-4e3d-9ba8-204c16fdab2a",
   "metadata": {},
   "outputs": [],
   "source": []
  }
 ],
 "metadata": {
  "kernelspec": {
   "display_name": "Python 3 (ipykernel)",
   "language": "python",
   "name": "python3"
  },
  "language_info": {
   "codemirror_mode": {
    "name": "ipython",
    "version": 3
   },
   "file_extension": ".py",
   "mimetype": "text/x-python",
   "name": "python",
   "nbconvert_exporter": "python",
   "pygments_lexer": "ipython3",
   "version": "3.10.8"
  }
 },
 "nbformat": 4,
 "nbformat_minor": 5
}
